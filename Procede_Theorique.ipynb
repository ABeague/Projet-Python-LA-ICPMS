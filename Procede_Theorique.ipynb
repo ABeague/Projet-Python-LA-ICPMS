{
 "cells": [
  {
   "cell_type": "markdown",
   "id": "c6b3effc",
   "metadata": {},
   "source": [
    "Ci-dessous est une brève description des différentes étapes dans le code, en précisant leur utilité théorique.\n",
    "\n",
    "### 1) Lecture des données\n",
    "\n",
    "Utilisation de *pd.read_csv()* suivi du nom du fichier contenant les données de calibration. On définit également les étalons, calibrants et concentrations des calibrants. Ces données correspondent aux intensités obtenues par LA ICP-MS, de séries de solutions de calibration, dont la concentration est connue.\n",
    "\n",
    "### 2) Normalisation des intensités selon les étalons\n",
    "\n",
    "Les intensités récupérées sont ensuite normalisées, utilisant un étalon interne à concentration constant. Ceci permet de compenser les fluctuations d’énergie du laser ablatant dans la LA ICP-MS, et donc de corriger les fluctuations non liées à la concentration.\n",
    "\n",
    "### 3) Calcul de RSD\n",
    "\n",
    "On calcule les RSD à partir des données qui seront implémentées dans la courbe de calibration en tant qu'écart type.\n",
    "\n",
    "### 4) Elimination des outliers\n",
    "\n",
    "Les données aberrantes, causées par des fluctuations du laser ou à des hétérogénéités du film de calibration causent des erreurs dans les courbes de calibration. Pour les éliminer, on utilise la notion d'outliers correspondant aux valeurs 1.5 fois l'équart inter-quartile en dehors des quartiles suppérieurs et inférieurs. Ces données sont alors retirées du dataset.\n",
    "\n",
    "### 5) Réalisation des droites de calibration\n",
    "\n",
    "On réalise des régression linéaires, en utilisant différentes concentrations et leurs intensités liées, afin d’obtenir des droites d’équation $ \\mathrm{Intensité} = a.\\mathrm{Concentration}+b $. On pourra ainsi remplacer l’intensité dans cette équation par l’intensité d’échantillons, et ainsi obtenir leurs concentrations.\n",
    "\n",
    "### 6) Conversion des intensités en concentrations\n",
    "\n",
    "On utilise les régressions linéaires précédentes et les intensités de nos étalons, on peut calculer la concentration et son erreur respective.\n",
    "\n",
    "### 7) Réalisation des images\n",
    "\n",
    "Les images ont été réalisées à l'aide de la commande *imshow()*, les outliers ont également été retirés pour éviter du bruit dans les images générées. Ces dernières représentent la distribution d’un élément au sein de l’échantillon, en utilisant un gradient de couleur pour représenter les différentes concentrations présentes."
   ]
  }
 ],
 "metadata": {
  "kernelspec": {
   "display_name": "Python 3 (ipykernel)",
   "language": "python",
   "name": "python3"
  },
  "language_info": {
   "codemirror_mode": {
    "name": "ipython",
    "version": 3
   },
   "file_extension": ".py",
   "mimetype": "text/x-python",
   "name": "python",
   "nbconvert_exporter": "python",
   "pygments_lexer": "ipython3",
   "version": "3.9.13"
  }
 },
 "nbformat": 4,
 "nbformat_minor": 5
}
